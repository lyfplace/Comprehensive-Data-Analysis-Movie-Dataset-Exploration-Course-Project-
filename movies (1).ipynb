{
 "cells": [
  {
   "cell_type": "markdown",
   "metadata": {},
   "source": [
    "# JC3503 Assignment 2024-2025 \n",
    "\n",
    "## Movies\n",
    "\n",
    "---\n",
    "\n",
    "Student Name: [YONGFENG LIN]\n",
    "\n",
    "Student Email: [u17yl22@abdn.ac.uk]\n",
    "\n",
    "Student ID: [50087310]\n",
    "\n",
    "---\n",
    "搞清楚data visualization内容，搞清楚框架怎么搭建\n"
   ]
  },
  {
   "cell_type": "markdown",
   "metadata": {},
   "source": [
    "<u>**Date due: Friday 30th May, 2025, at 23:59 (UTC+8; Beijing time)**</u>\n",
    "\n",
    "\n",
    "You should use markdown to explain the different steps of your analysis, and to add your own interpretation of what that analysis shows. \n",
    "\n",
    "Your notebook should alternate between markdown and analysis code. However, you should also use code comments, where appropriate, to explain your process.\n",
    "\n",
    "**Note that all comments and markdown should be in English.**"
   ]
  },
  {
   "cell_type": "code",
   "execution_count": 2,
   "metadata": {},
   "outputs": [],
   "source": [
    "# Add all pre-requisites and libraries here\n",
    "import pandas as pd\n",
    "import seaborn as sns\n",
    "import sklearn as sk"
   ]
  },
  {
   "cell_type": "code",
   "execution_count": 3,
   "metadata": {},
   "outputs": [],
   "source": [
    "# Import the data\n",
    "df = pd.read_csv(\"movies.csv\", low_memory=False)"
   ]
  },
  {
   "cell_type": "markdown",
   "metadata": {},
   "source": [
    "### EDA\n",
    "\n",
    "understand what our \n",
    "dataset ‘looks like  ---head()---tail()---shape()---info()’"
   ]
  },
  {
   "cell_type": "code",
   "execution_count": null,
   "metadata": {},
   "outputs": [],
   "source": [
    "df.head()\n",
    "df.tail()\n",
    "df.shape\n",
    "df.info()\n",
    "df.describe()\n"
   ]
  },
  {
   "cell_type": "markdown",
   "metadata": {},
   "source": [
    "### Data Cleaning\n",
    "我印象中好像有一种处理缺失的方法，就是不管。。。\n",
    "Library using: kaggle\n",
    "types of messy data: \n",
    "• Erroneous values (e.g. spelling mistakes)\r\n",
    "• Duplicated rows\r\n",
    "• Partial data (e.g. abandoned questionnaires)\r\n",
    "• Missing val (delete the rows if not interesting/insert the mean,median,or mode/copy from similar rows)(could be \"None\",\"NaN\",\"\",\"{}\")ues\r\n",
    "• Extreme outliers"
   ]
  },
  {
   "cell_type": "code",
   "execution_count": null,
   "metadata": {},
   "outputs": [],
   "source": [
    "#print the column name first\n",
    "...\n",
    "#for each column:\n",
    "df[].value_counts() #see if there is erroneous values\n",
    "\n"
   ]
  },
  {
   "cell_type": "markdown",
   "metadata": {},
   "source": [
    "### Data Preprocessing\n",
    "\n",
    "\n",
    "For:\n",
    "• Split-Apply-Combine\n",
    "• Converting a categorical variable to numerical (boolean) values ---dummy coding\n",
    "• Converting boolean numerical data into ordinal categories ---Bucketng(binning)\n",
    "• Class imbalance ---data downsampling ---data upsampling\n",
    "•\n",
    "•\n",
    "•\n",
    "•"
   ]
  },
  {
   "cell_type": "code",
   "execution_count": null,
   "metadata": {},
   "outputs": [],
   "source": []
  },
  {
   "cell_type": "markdown",
   "metadata": {},
   "source": [
    "### Data Visualisation\n",
    "1.分情况讨论：分类变量，连续变量，时间型，文本型\n",
    "2.单变量可视化，类别变量分析，多变量关系，分类比较，聚类搜索，可解释性建模，时间分析\n",
    "-------------\n",
    "3. Univariate Analysis\r\n",
    "   3.1 Numerical Columns\r\n",
    "3.2 Categorical Columns\r\n",
    "\r\n",
    "4. Bivariate & Multivariate Analysis\r\n",
    "4.1 Correlation Matrix (Numerical Features)\r\n",
    "4.2 Boxplots / Violinplots\r\n",
    "4.3 Pairplots"
   ]
  },
  {
   "cell_type": "code",
   "execution_count": null,
   "metadata": {},
   "outputs": [],
   "source": []
  },
  {
   "cell_type": "markdown",
   "metadata": {},
   "source": [
    "### Train interpretable model or conduct statistical test\n",
    "\n"
   ]
  },
  {
   "cell_type": "code",
   "execution_count": null,
   "metadata": {},
   "outputs": [],
   "source": []
  },
  {
   "cell_type": "markdown",
   "metadata": {},
   "source": [
    "### Analysis & report outcomes"
   ]
  },
  {
   "cell_type": "code",
   "execution_count": null,
   "metadata": {},
   "outputs": [],
   "source": []
  }
 ],
 "metadata": {
  "kernelspec": {
   "display_name": "Python 3 (ipykernel)",
   "language": "python",
   "name": "python3"
  },
  "language_info": {
   "codemirror_mode": {
    "name": "ipython",
    "version": 3
   },
   "file_extension": ".py",
   "mimetype": "text/x-python",
   "name": "python",
   "nbconvert_exporter": "python",
   "pygments_lexer": "ipython3",
   "version": "3.12.4"
  }
 },
 "nbformat": 4,
 "nbformat_minor": 4
}
